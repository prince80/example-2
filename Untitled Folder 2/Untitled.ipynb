{
 "cells": [
  {
   "cell_type": "code",
   "execution_count": 1,
   "id": "2e200412",
   "metadata": {},
   "outputs": [],
   "source": [
    "from textblob import TextBlob\n",
    "import sys\n",
    "import tweepy\n",
    "import os\n",
    "import nltk\n",
    "import re\n",
    "import string\n",
    "from nltk.sentiment.vader import SentimentIntensityAnalyzer\n",
    "from nltk.stem import SnowballStemmer\n",
    "from nltk.sentiment.vader import SentimentIntensityAnalyzer\n",
    "import matplotlib.pyplot as plt\n",
    "import numpy as np\n",
    "import pandas as pd\n",
    "import pycountry\n",
    "from PIL import Image\n",
    "from langdetect import detect\n",
    "from sklearn.feature_extraction.text import CountVectorizer"
   ]
  },
  {
   "cell_type": "code",
   "execution_count": 2,
   "id": "f7988986",
   "metadata": {},
   "outputs": [],
   "source": [
    "consumerKey = \"R8nzDh18wema1kCc65W6kpV9N\"\n",
    "consumerSecret = \"vjdRUoE3UV5Ej1L1NLgMIARlN2RGI3jzsAstVwQYEl5I8HQtHA\"\n",
    "accessToken = \"1493256630909259779-AZ6277NytmHGHtTfQzNNKCEDAQims6\"\n",
    "accessTokenSecret = \"66k3S75N7g1dliK0SszKPZWwzPhpzfZ2ljYx41M6P2phB\"\n",
    "\n",
    "\n",
    "auth = tweepy.OAuthHandler(\"R8nzDh18wema1kCc65W6kpV9N\", \"vjdRUoE3UV5Ej1L1NLgMIARlN2RGI3jzsAstVwQYEl5I8HQtHA\")\n",
    "auth.set_access_token(\"1493256630909259779-AZ6277NytmHGHtTfQzNNKCEDAQims6\", \"66k3S75N7g1dliK0SszKPZWwzPhpzfZ2ljYx41M6P2phB\")\n",
    "api = tweepy.API(auth)"
   ]
  },
  {
   "cell_type": "code",
   "execution_count": null,
   "id": "bbd8d0f4",
   "metadata": {},
   "outputs": [],
   "source": []
  }
 ],
 "metadata": {
  "kernelspec": {
   "display_name": "Python 3 (ipykernel)",
   "language": "python",
   "name": "python3"
  },
  "language_info": {
   "codemirror_mode": {
    "name": "ipython",
    "version": 3
   },
   "file_extension": ".py",
   "mimetype": "text/x-python",
   "name": "python",
   "nbconvert_exporter": "python",
   "pygments_lexer": "ipython3",
   "version": "3.10.2"
  }
 },
 "nbformat": 4,
 "nbformat_minor": 5
}
